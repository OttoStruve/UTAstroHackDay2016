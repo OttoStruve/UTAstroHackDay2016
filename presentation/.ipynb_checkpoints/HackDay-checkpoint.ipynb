{
 "cells": [
  {
   "cell_type": "markdown",
   "metadata": {
    "slideshow": {
     "slide_type": "slide"
    }
   },
   "source": [
    "# Hack Day Summary\n",
    "\n",
    "## Kevin Gullikson, among others"
   ]
  },
  {
   "cell_type": "markdown",
   "metadata": {
    "slideshow": {
     "slide_type": "slide"
    }
   },
   "source": [
    "# What is a Hack Day?\n",
    "\n",
    "<img src=\"http://static.sonar.es/img/BCN2013/gallery/sonar+D2013-MusicHackDay-15-Consuelo-Bautista.jpg\">"
   ]
  },
  {
   "cell_type": "markdown",
   "metadata": {
    "slideshow": {
     "slide_type": "subslide"
    }
   },
   "source": [
    "- Get together with a bunch of people\n",
    "- Work in groups or alone on some project\n",
    "- Increasingly popular in astronomy: .Astronomy, [#hackaas](http://astrobites.org/2016/01/23/roundup-aas227-hackaas-hack-day/)"
   ]
  },
  {
   "cell_type": "markdown",
   "metadata": {
    "slideshow": {
     "slide_type": "subslide"
    }
   },
   "source": [
    "# Format of a Hack Day\n",
    "\n",
    "- Morning: everyone pitches their ideas/what they plan to work on. People working on similar things or who want to help with a specific project team up.\n"
   ]
  },
  {
   "cell_type": "markdown",
   "metadata": {
    "slideshow": {
     "slide_type": "fragment"
    }
   },
   "source": [
    "- Most of the day: \n",
    "   <img src=\"http://36.media.tumblr.com/ec2fb454e678f66133ac9b44df2e9cee/tumblr_msvbjbvoo71qzbiclo1_500.jpg\">"
   ]
  },
  {
   "cell_type": "markdown",
   "metadata": {
    "slideshow": {
     "slide_type": "fragment"
    }
   },
   "source": [
    "\n",
    "- End of the day: Present your results\n",
    " <img src=\"YaoLun.jpg\">"
   ]
  },
  {
   "cell_type": "markdown",
   "metadata": {
    "slideshow": {
     "slide_type": "slide"
    }
   },
   "source": [
    "# What Went Down at This Hack Day?\n",
    "\n",
    "<img src=\"hacking.jpg\">"
   ]
  },
  {
   "cell_type": "markdown",
   "metadata": {
    "slideshow": {
     "slide_type": "subslide"
    }
   },
   "source": [
    "1. Put all of my random general-purpose scripts into a [python package](https://github.com/kgullikson88/gullikson-scripts)\n",
    "  - CCF utilities\n",
    "  - Spectral type relationships\n",
    "  - Bayesian least squares fitter code (wraps emcee and MultiNest)\n",
    "\n",
    "   `pip install kglib`\n",
    "   \n",
    "2. Ivan made a [tutorial notebook](https://github.com/astroChasqui/q2_tutorial/blob/master/6.%20Stellar%20parameters%20from%20isochrones.ipynb) for his q2 code, and recruited 3 new users!\n",
    "\n",
    "3. Jacob, Aaron, and Alex packaged up Jacob's [pyGadget code](https://github.com/hummel/pyGadget) and set up Sphinx documentation. He also helped Jason visualize some simulation data using pyGadget.\n",
    "\n",
    "4. Kyle got TelFit running on his laptop and went through the tutorial I gave earlier in the week.\n",
    "\n",
    "5. Discovered how powerful anaconda and jupyter notebooks are (more on that later)"
   ]
  },
  {
   "cell_type": "markdown",
   "metadata": {
    "slideshow": {
     "slide_type": "slide"
    }
   },
   "source": [
    "# Reasons to Attend the Next Hack Day\n",
    "\n",
    "(in no particular order)\n",
    "\n",
    "1. Collaboration: Even if you are working on your own project, if you run into a problem the first step can be to ask if anyone can help rather than googling the issue. This generally leads to a much faster solution.\n",
    "\n",
    "2. Side project completion: You can work on that little side project that you have been meaning to do forever but just can't find the time.\n",
    "\n",
    "3. Learn what's out there: We come up with very similar ideas all the time, so it's very likely that someone else has already done what you need, or knows that there is already a tool that will save you a lot of time.\n"
   ]
  },
  {
   "cell_type": "markdown",
   "metadata": {
    "slideshow": {
     "slide_type": "slide"
    }
   },
   "source": [
    "# Excuses for not Attending Hack Day:\n",
    "\n",
    "<img src=\"http://cdn.meme.am/instances/57097513.jpg\">\n",
    "\n",
    "- **\"I have to work on my paper/project.\"** Great! Do that in a collaborative environment. Ask for help rewording something. Ask people how a figure looks. Maybe even gain a new collaborator who knows how to do your analysis in a better way.\n",
    "\n",
    "- **\"I don't think I could help with a project.\" **\n",
    "  1. Yes you probably can. You don't have to spend 3 hours writing code and submitting a pull request to help. You just have to be there at the right time when someone else asks \"does anyone know what X means?\"\n",
    "  2. See \"I have to work on my paper/project.\" Working alone is fine too, and doing so in a new and collaborative environment will probably help.\n",
    "\n",
    "- **\"I have a meeting from 11-12 and a telecon from 2-3.\"** As the name implies, Hack Day is a whole day thing, but you don't have to be there the entire time. Several attendees did this, in fact."
   ]
  },
  {
   "cell_type": "markdown",
   "metadata": {
    "slideshow": {
     "slide_type": "slide"
    }
   },
   "source": [
    "# Next Hack Day\n",
    "\n",
    "- Spring break?\n",
    "- Probably not department-sponsored because I would feel bad submitting two late Cox proposals for the same thing.\n"
   ]
  }
 ],
 "metadata": {
  "celltoolbar": "Slideshow",
  "kernelspec": {
   "display_name": "Python 3",
   "language": "python",
   "name": "python3"
  },
  "language_info": {
   "codemirror_mode": {
    "name": "ipython",
    "version": 3
   },
   "file_extension": ".py",
   "mimetype": "text/x-python",
   "name": "python",
   "nbconvert_exporter": "python",
   "pygments_lexer": "ipython3",
   "version": "3.4.3"
  }
 },
 "nbformat": 4,
 "nbformat_minor": 0
}
